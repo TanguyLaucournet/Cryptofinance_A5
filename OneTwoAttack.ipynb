{
  "nbformat": 4,
  "nbformat_minor": 0,
  "metadata": {
    "colab": {
      "name": "OneTwoAttack.ipynb",
      "provenance": [],
      "collapsed_sections": []
    },
    "kernelspec": {
      "name": "python3",
      "display_name": "Python 3"
    },
    "language_info": {
      "name": "python"
    }
  },
  "cells": [
    {
      "cell_type": "code",
      "source": [
        "import random\n",
        "import numpy as np\n",
        "import matplotlib.pyplot as plt"
      ],
      "metadata": {
        "id": "uBm_GAmeGDp-"
      },
      "execution_count": null,
      "outputs": []
    },
    {
      "cell_type": "markdown",
      "source": [
        "One two attack"
      ],
      "metadata": {
        "id": "21LkloiLFYvr"
      }
    },
    {
      "cell_type": "code",
      "execution_count": null,
      "metadata": {
        "id": "h5msP1HOFGDY"
      },
      "outputs": [],
      "source": [
        "def onetwo_attack(q, n):\n",
        "    \n",
        "    # q = hashrate de l'attaquant \n",
        "    # n = nombre d'attaques\n",
        "\n",
        "    R = [] # Blocks miné par l'attaquant\n",
        "\n",
        "\n",
        "    H= [] #Blocks minés par la blockchain officielle\n",
        "\n",
        "    for i in range(n):\n",
        "\n",
        "        r = 0 #nb de blocks miné par l'attaquant lors de cette attaque\n",
        "\n",
        "        h = 0 #nb de blocks minés par la blockchain officielles lors de cette attaque\n",
        "\n",
        "        for j in range(3):\n",
        "            result = random.uniform(0,1) #on génère un nombre random \n",
        "            if(j == 0):\n",
        "                if result > q: # le nb généré est supérieur à la puissance de l'attaquant, l'attaque est terminée\n",
        "                    h = 1\n",
        "                   \n",
        "                    break     \n",
        "                if result < q:\n",
        "                    r = r+1\n",
        "                \n",
        "            else: #le nb généré est inférieur à la puissance de l'attaquant, l'attaque continue. \n",
        "                if result < q:\n",
        "                    r = r+1\n",
        "                   \n",
        "            if( j == 2):\n",
        "                if(r == 3): # l'attaquant ajoute 3 blocks à la blockchain officielle\n",
        "                    h = 3\n",
        "\n",
        "                if(r == 2):# l'attaquant ajoute 2 blocks à la blockchain officielle\n",
        "                    h = 2\n",
        "                if(r == 1):#l'attaquant est en retard sur la blockchain officielle et n'ajoute donc aucun block\n",
        "                    h = 2\n",
        "                    r = 0         \n",
        "\n",
        "  \n",
        "        H.append(h)        \n",
        "        R.append(r)\n",
        "        ER = 0\n",
        "        EH = 0\n",
        "        for i in range(len(H)):\n",
        "            ER = ER + (R[i])\n",
        "            EH = EH + (H[i])\n",
        "    finale = ER/EH # calcul du rendement\n",
        "    return finale,"
      ]
    },
    {
      "cell_type": "code",
      "source": [
        "result=[]\n",
        "classique=[]\n",
        "positive_rendement = False\n",
        "\n",
        "for i in np.arange(0, 0.5, 0.005):\n",
        "  temp = onetwo_attack(i,10000)\n",
        "  result.append(temp)\n",
        "  if temp>i:\n",
        "    if not positive_rendement : # permet de savoir à partir de quand le rendement est positif\n",
        "            print(\"Le rendement est positif à partir de \" +str(i))\n",
        "            positive_rendement = True\n",
        "\n",
        "x = np.arange(0,0.5,0.005)\n",
        "y = result\n",
        "\n",
        "\n",
        "X = np.array(x)\n",
        "Y = np.array(y)\n",
        "\n",
        "\n",
        "\n",
        "col = 'red'\n",
        "col2 = 'blue'\n",
        "\n",
        "plt.plot(X, Y, label = 'Attack', color=col)\n",
        "plt.plot(X, X, label = 'Classique', color=col2)\n",
        "plt.legend() \n",
        "\n",
        "plt.title('One two attack')\n",
        "plt.xlim(0,0.5)          \n",
        "plt.xlabel('Hashrate')        \n",
        "plt.ylabel('Rendement')         \n",
        "\n",
        "plt.show()"
      ],
      "metadata": {
        "colab": {
          "base_uri": "https://localhost:8080/",
          "height": 312
        },
        "id": "o937DdewHcO9",
        "outputId": "f8bbc801-5a06-48f7-c61c-f63596d0c2ec"
      },
      "execution_count": null,
      "outputs": [
        {
          "output_type": "stream",
          "name": "stdout",
          "text": [
            "Le rendement est positif à partir de 0.405\n"
          ]
        },
        {
          "output_type": "display_data",
          "data": {
            "image/png": "[encoded data removed]",
            "text/plain": [
              "<Figure size 432x288 with 1 Axes>"
            ]
          },
          "metadata": {
            "needs_background": "light"
          }
        }
      ]
    },
    {
      "cell_type": "code",
      "source": [
        ""
      ],
      "metadata": {
        "id": "S0n6GRMeM-vj"
      },
      "execution_count": null,
      "outputs": []
    }
  ]
}